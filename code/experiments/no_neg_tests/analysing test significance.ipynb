{
 "cells": [
  {
   "cell_type": "code",
   "execution_count": 1,
   "metadata": {},
   "outputs": [],
   "source": [
    "import numpy as np\n",
    "\n",
    "import sys\n",
    "sys.path.append('../..')\n",
    "sys.path.append('../exp_5.1')\n",
    "\n",
    "from tqdm.auto import trange\n",
    "\n",
    "from matplotlib.pyplot import *\n",
    "\n",
    "import pandas as pd\n",
    "\n",
    "import pickle\n",
    "\n",
    "from crisp import Distribution, GibbsPIS, LBPPIS\n",
    "from exp51 import init_contacts"
   ]
  },
  {
   "cell_type": "code",
   "execution_count": 2,
   "metadata": {},
   "outputs": [
    {
     "name": "stdout",
     "output_type": "stream",
     "text": [
      "qIbar=19.862\n"
     ]
    }
   ],
   "source": [
    "qEVec = [0.0000000000, 0.05908981283, 0.1656874653, 0.1819578343, 0.154807057,\n",
    "         0.1198776096, 0.08938884645, 0.06572939883, 0.04819654533,\n",
    "         0.03543733758, 0.02620080839, 0.01950646727, 0.01463254844,\n",
    "         0.0110616426, 0.008426626119]\n",
    "\n",
    "qIVec = [0.000000000000, 0.000000000000, 0.00000000000, 0.000000000000, 0.000000000000,\n",
    "         0.0001178655952, 0.0006658439543, 0.002319264193, 0.005825713197, 0.01160465163,\n",
    "         0.01949056696, 0.02877007836, 0.03842711373, 0.04743309657, 0.05496446107,\n",
    "         0.06050719418, 0.06386313651, 0.065094874, 0.06444537162, 0.06225794729,\n",
    "         0.0589104177, 0.05476817903, 0.05015542853, 0.0453410888, 0.04053528452,\n",
    "         0.03589255717, 0.03151878504, 0.02747963753, 0.02380914891, 0.02051758911,\n",
    "         0.01759822872, 0.01503287457, 0.0127962154, 0.01085910889, 0.009190974483,\n",
    "         0.007761463001, 0.006541562648, 0.005504277076]\n",
    "\n",
    "qE = Distribution([q/sum(qEVec) for q in qEVec])\n",
    "qI = Distribution([q/sum(qIVec) for q in qIVec])\n",
    "\n",
    "qIbar = np.sum(qIVec*np.arange(len(qIVec)))\n",
    "print(\"qIbar={:.3f}\".format(qIbar))"
   ]
  },
  {
   "cell_type": "code",
   "execution_count": 86,
   "metadata": {},
   "outputs": [],
   "source": [
    "update = True\n",
    "\n",
    "T = 180\n",
    "S = 1000\n",
    "\n",
    "R0 = 1.0\n",
    "alpha = 0.01 # PCR test false negative rate\n",
    "beta = 0.0001 # PCR test false positive rate\n",
    "\n",
    "p0 = 50e-5 /7 \n",
    "p1 = 0.01\n",
    "\n",
    "N_tests_per_day = 10\n",
    "N_runs = 1000\n",
    "\n",
    "\n",
    "exp_name = f'test_impact_S{S}_T{T}.pkl'"
   ]
  },
  {
   "cell_type": "code",
   "execution_count": 87,
   "metadata": {},
   "outputs": [
    {
     "data": {
      "text/plain": [
       "[<matplotlib.lines.Line2D at 0x7fa1cbaade50>]"
      ]
     },
     "execution_count": 87,
     "metadata": {},
     "output_type": "execute_result"
    },
    {
     "data": {
      "image/png": "[encoded data removed]",
      "text/plain": [
       "<Figure size 432x288 with 1 Axes>"
      ]
     },
     "metadata": {
      "needs_background": "light"
     },
     "output_type": "display_data"
    }
   ],
   "source": [
    "# create random contatcts fot 1000 people\n",
    "contacts = init_contacts(S,T, qIbar, R0=R0, p1=p1)\n",
    "contacts = np.concatenate(list(contacts.values()))\n",
    "\n",
    "# build the ground truth CRISP model with patient_zero = True \n",
    "pis = GibbsPIS(S, T, contacts, [], qE, qI, alpha, beta, p0, p1, True)\n",
    "\n",
    "# get a ground truth sample\n",
    "Z = pis.sample(1)[0] \n",
    "\n",
    "\n",
    "plot((Z==0).mean(0))\n",
    "plot((Z==1).mean(0))\n",
    "plot((Z==2).mean(0))\n",
    "plot((Z==3).mean(0))"
   ]
  },
  {
   "cell_type": "code",
   "execution_count": 90,
   "metadata": {},
   "outputs": [
    {
     "data": {
      "text/plain": [
       "array([[1, 1, 2, ..., 3, 3, 3],\n",
       "       [0, 0, 0, ..., 3, 3, 3],\n",
       "       [0, 0, 0, ..., 0, 0, 0],\n",
       "       ...,\n",
       "       [0, 0, 0, ..., 3, 3, 3],\n",
       "       [0, 0, 0, ..., 0, 0, 0],\n",
       "       [0, 0, 0, ..., 0, 0, 0]])"
      ]
     },
     "execution_count": 90,
     "metadata": {},
     "output_type": "execute_result"
    }
   ],
   "source": [
    "Z"
   ]
  },
  {
   "cell_type": "code",
   "execution_count": 92,
   "metadata": {},
   "outputs": [
    {
     "data": {
      "text/plain": [
       "array([[  3,  20,   0],\n",
       "       [790,  20,   0],\n",
       "       [356,  20,   0],\n",
       "       ...,\n",
       "       [816, 177,   0],\n",
       "       [212, 177,   0],\n",
       "       [ 54, 177,   0]])"
      ]
     },
     "execution_count": 92,
     "metadata": {},
     "output_type": "execute_result"
    }
   ],
   "source": [
    "tests"
   ]
  },
  {
   "cell_type": "code",
   "execution_count": 5,
   "metadata": {},
   "outputs": [],
   "source": [
    "try:\n",
    "    with open(exp_name,'rb') as f:\n",
    "        results = pickle.load(f)\n",
    "except:\n",
    "    results = {}"
   ]
  },
  {
   "cell_type": "code",
   "execution_count": 83,
   "metadata": {
    "scrolled": false
   },
   "outputs": [
    {
     "data": {
      "application/vnd.jupyter.widget-view+json": {
       "model_id": "b5ed6fc64d374a19ac8fe870243724c9",
       "version_major": 2,
       "version_minor": 0
      },
      "text/plain": [
       "HBox(children=(IntProgress(value=0, max=1000), HTML(value='')))"
      ]
     },
     "metadata": {},
     "output_type": "display_data"
    },
    {
     "name": "stdout",
     "output_type": "stream",
     "text": [
      "170: n_pt=7(0.443%) \n",
      "l_all     =-0.047 (-0.038,-0.009) (-4.741,-0.009) \n",
      "l_pos     =-0.050 (-0.032,-0.018) (-4.017,-0.018) \n",
      "l_no_tests=-0.047 (-0.035,-0.012) (-4.364,-0.012) \n",
      "\n",
      "171: n_pt=9(0.570%) \n",
      "l_all     =-0.067 (-0.057,-0.010) (-4.084,-0.010) \n",
      "l_pos     =-0.070 (-0.051,-0.019) (-3.653,-0.019) \n",
      "l_no_tests=-0.074 (-0.062,-0.012) (-4.415,-0.012) \n",
      "\n",
      "172: n_pt=22(1.392%) \n",
      "l_all     =-0.143 (-0.127,-0.016) (-3.848,-0.017) \n",
      "l_pos     =-0.141 (-0.113,-0.028) (-3.418,-0.029) \n",
      "l_no_tests=-0.156 (-0.144,-0.012) (-4.354,-0.012) \n",
      "\n",
      "173: n_pt=14(0.886%) \n",
      "l_all     =-0.061 (-0.051,-0.010) (-4.253,-0.010) \n",
      "l_pos     =-0.063 (-0.043,-0.020) (-3.606,-0.020) \n",
      "l_no_tests=-0.065 (-0.052,-0.012) (-4.363,-0.012) \n",
      "\n",
      "174: n_pt=4(0.253%) \n",
      "l_all     =-0.028 (-0.020,-0.007) (-5.061,-0.007) \n",
      "l_pos     =-0.032 (-0.017,-0.015) (-4.191,-0.015) \n",
      "l_no_tests=-0.030 (-0.018,-0.012) (-4.395,-0.012) \n",
      "\n",
      "175: n_pt=12(0.759%) \n",
      "l_all     =-0.058 (-0.049,-0.009) (-4.104,-0.009) \n",
      "l_pos     =-0.062 (-0.043,-0.019) (-3.581,-0.019) \n",
      "l_no_tests=-0.064 (-0.052,-0.012) (-4.348,-0.012) \n",
      "\n",
      "176: n_pt=2(0.127%) \n",
      "l_all     =-0.016 (-0.010,-0.006) (-5.117,-0.006) \n",
      "l_pos     =-0.022 (-0.009,-0.014) (-4.426,-0.014) \n",
      "l_no_tests=-0.021 (-0.009,-0.012) (-4.512,-0.012) \n",
      "\n",
      "177: n_pt=4(0.253%) \n",
      "l_all     =-0.032 (-0.025,-0.008) (-4.921,-0.008) \n",
      "l_pos     =-0.037 (-0.021,-0.016) (-4.208,-0.016) \n",
      "l_no_tests=-0.034 (-0.022,-0.012) (-4.387,-0.012) \n",
      "\n",
      "178: n_pt=14(0.886%) \n",
      "l_all     =-0.042 (-0.029,-0.013) (-4.194,-0.013) \n",
      "l_pos     =-0.046 (-0.024,-0.022) (-3.420,-0.023) \n",
      "l_no_tests=-0.043 (-0.031,-0.012) (-4.404,-0.012) \n",
      "\n",
      "179: n_pt=12(0.759%) \n",
      "l_all     =-0.100 (-0.088,-0.012) (-4.186,-0.012) \n",
      "l_pos     =-0.098 (-0.077,-0.021) (-3.677,-0.022) \n",
      "l_no_tests=-0.104 (-0.092,-0.012) (-4.389,-0.012) \n",
      "\n",
      "180: n_pt=2(0.127%) \n",
      "l_all     =-0.022 (-0.016,-0.006) (-5.429,-0.006) \n",
      "l_pos     =-0.026 (-0.013,-0.014) (-4.297,-0.014) \n",
      "l_no_tests=-0.026 (-0.013,-0.012) (-4.388,-0.012) \n",
      "\n",
      "181: n_pt=22(1.392%) \n",
      "l_all     =-0.098 (-0.083,-0.016) (-3.751,-0.016) \n",
      "l_pos     =-0.100 (-0.074,-0.026) (-3.349,-0.027) \n",
      "l_no_tests=-0.108 (-0.096,-0.012) (-4.374,-0.012) \n",
      "\n",
      "182: n_pt=9(0.570%) \n",
      "l_all     =-0.027 (-0.019,-0.008) (-4.791,-0.008) \n",
      "l_pos     =-0.033 (-0.016,-0.017) (-4.096,-0.017) \n",
      "l_no_tests=-0.030 (-0.018,-0.012) (-4.430,-0.012) \n",
      "\n",
      "183: n_pt=29(1.835%) \n",
      "l_all     =-0.064 (-0.048,-0.016) (-3.989,-0.016) \n",
      "l_pos     =-0.069 (-0.041,-0.028) (-3.428,-0.028) \n",
      "l_no_tests=-0.065 (-0.053,-0.012) (-4.390,-0.012) \n",
      "\n",
      "184: n_pt=23(1.456%) \n",
      "l_all     =-0.138 (-0.119,-0.019) (-3.497,-0.019) \n",
      "l_pos     =-0.135 (-0.107,-0.029) (-3.141,-0.030) \n",
      "l_no_tests=-0.160 (-0.148,-0.012) (-4.366,-0.012) \n",
      "\n",
      "185: n_pt=17(1.076%) \n",
      "l_all     =-0.026 (-0.012,-0.014) (-4.041,-0.014) \n",
      "l_pos     =-0.035 (-0.011,-0.025) (-3.575,-0.025) \n",
      "l_no_tests=-0.025 (-0.013,-0.012) (-4.335,-0.012) \n",
      "\n",
      "186: n_pt=7(0.443%) \n",
      "l_all     =-0.017 (-0.010,-0.008) (-3.292,-0.008) \n",
      "l_pos     =-0.025 (-0.008,-0.016) (-2.823,-0.016) \n",
      "l_no_tests=-0.025 (-0.013,-0.012) (-4.282,-0.012) \n",
      "\n",
      "187: n_pt=29(1.835%) \n",
      "l_all     =-0.068 (-0.055,-0.013) (-3.638,-0.013) \n",
      "l_pos     =-0.072 (-0.049,-0.024) (-3.234,-0.024) \n",
      "l_no_tests=-0.078 (-0.066,-0.012) (-4.386,-0.012) \n",
      "\n",
      "188: n_pt=11(0.696%) \n"
     ]
    },
    {
     "ename": "KeyboardInterrupt",
     "evalue": "",
     "output_type": "error",
     "traceback": [
      "\u001b[0;31m---------------------------------------------------------------------------\u001b[0m",
      "\u001b[0;31mKeyboardInterrupt\u001b[0m                         Traceback (most recent call last)",
      "\u001b[0;32m<ipython-input-83-c3dd9f9ee668>\u001b[0m in \u001b[0;36m<module>\u001b[0;34m\u001b[0m\n\u001b[1;32m     65\u001b[0m \u001b[0;34m\u001b[0m\u001b[0m\n\u001b[1;32m     66\u001b[0m         \u001b[0;31m# five sweeps of LBP, back and forth\u001b[0m\u001b[0;34m\u001b[0m\u001b[0;34m\u001b[0m\u001b[0;34m\u001b[0m\u001b[0m\n\u001b[0;32m---> 67\u001b[0;31m         \u001b[0mpis_inference\u001b[0m\u001b[0;34m.\u001b[0m\u001b[0mpropagate\u001b[0m\u001b[0;34m(\u001b[0m\u001b[0;36m10\u001b[0m\u001b[0;34m,\u001b[0m\u001b[0;34m'baum_welch'\u001b[0m\u001b[0;34m)\u001b[0m\u001b[0;34m\u001b[0m\u001b[0;34m\u001b[0m\u001b[0m\n\u001b[0m\u001b[1;32m     68\u001b[0m \u001b[0;34m\u001b[0m\u001b[0m\n\u001b[1;32m     69\u001b[0m         \u001b[0;31m# compute the estimated marginal distribution, shape==(S,T,4)\u001b[0m\u001b[0;34m\u001b[0m\u001b[0;34m\u001b[0m\u001b[0;34m\u001b[0m\u001b[0m\n",
      "\u001b[0;31mKeyboardInterrupt\u001b[0m: "
     ]
    }
   ],
   "source": [
    "for it in trange(N_runs):\n",
    "\n",
    "    if not update:\n",
    "        continue\n",
    "        \n",
    "    if it in results and results[it]['ok']:\n",
    "        continue\n",
    "    \n",
    "    results[it] = {'ok': False}\n",
    "        \n",
    "    # create random contatcts fot 1000 people\n",
    "    contacts = init_contacts(S,T, qIbar, R0=R0, p1=p1)\n",
    "    contacts = np.concatenate(list(contacts.values()))\n",
    "\n",
    "    # build the ground truth CRISP model with patient_zero = True \n",
    "    pis = GibbsPIS(S, T, contacts, [], qE, qI, alpha, beta, p0, p1, True)\n",
    "    \n",
    "    # get a ground truth sample\n",
    "    Z = pis.sample(1)[0] \n",
    "\n",
    "    results[it]['Z'] = Z\n",
    "\n",
    "    \n",
    "    # build up random tests starting at day 20\n",
    "    tests={}\n",
    "    for t in range(20,T-2):\n",
    "        i = np.random.choice(S, N_tests_per_day)\n",
    "\n",
    "        # sample N_tests_per_day random test outcomes\n",
    "        pos = np.random.binomial(size=N_tests_per_day, n=1, p=1.0-alpha)\n",
    "        neg = np.random.binomial(size=N_tests_per_day, n=1, p=beta)\n",
    "        \n",
    "        # and build a list of tuples out of it \n",
    "        # and save it in a dictionary as tests for the day t\n",
    "        tests[t] = list(zip(i,                                  # 1. the person id u\n",
    "                            [t]*N_tests_per_day,                # 2. the date t\n",
    "                            (Z[i,t]==2)*pos + (Z[i,t]!=2)*neg)) # 3. the test outcome\n",
    "\n",
    "    # concatenate the dictionary into one list    \n",
    "    # all test outcomes, positive and negative\n",
    "    tests_all = np.concatenate(list(tests.values()))\n",
    "\n",
    "    # filter    \n",
    "    # only the tests with positive outcome\n",
    "    tests_pos = np.array([t for t in tests_all if t[2]==1])\n",
    "\n",
    "    # the number of positive test outcomes\n",
    "    n_pt = len(tests_pos)\n",
    "    results[it]['n_pos_tests'] = n_pt \n",
    "\n",
    "    # the fraction of positive test outcomes\n",
    "    r_pt = len(tests_pos) / len(tests_all)\n",
    "    results[it]['r_pos_tests'] = r_pt \n",
    "    \n",
    "    print(f'{it}: n_pt={n_pt}({100*r_pt:.3f}%) ')\n",
    "    \n",
    "    # do inference over all test outcomes, positive test outcomes, and no tests\n",
    "    for tests, descr in [(tests_all,'all'), \n",
    "                         (tests_pos,'pos'),\n",
    "                         ([], 'no_tests')]: \n",
    "        \n",
    "        # build a CRISP model with the true contacts, the tests, and patirnt_zero=False (becaus we don't know of her)\n",
    "        pis_inference = LBPPIS(S, T, contacts, tests, qE, qI, alpha, beta, p0, p1, False)\n",
    "        # pis_inference = GibbsPIS(S, T, contacts, tests, qE, qI, alpha, beta, p0, p1, False)\n",
    "        \n",
    "        # five sweeps of LBP, back and forth\n",
    "        pis_inference.propagate(10,'baum_welch')\n",
    "        \n",
    "        # compute the estimated marginal distribution, shape==(S,T,4)\n",
    "        p = pis_inference.get_marginals(10)[:,-1]\n",
    "        # ... and a slice for the I state at the last day \n",
    "        p_infectious = p[:,2]\n",
    "        \n",
    "        # that's the 2 state (I or !I) likelihood of ground truth infection state Z\n",
    "        l = np.log(p_infectious*(Z[:,-1]==2)+(1-p_infectious)*(Z[:,-1]!=2))\n",
    "        \n",
    "        l_split = np.array([np.log(p_infectious[Z[:,-1]==2]).sum(), np.log(1-p_infectious[Z[:,-1]!=2]).sum()]) \n",
    "        \n",
    "        # save everything\n",
    "        results[it]['tests_'+descr] = tests\n",
    "        results[it]['p_'+descr] = p\n",
    "        results[it]['l_'+descr] = l\n",
    "        results[it]['l_split_'+descr] = l_split\n",
    "        \n",
    "        n_I = sum(Z[:,-1]==2)\n",
    "        n_nI = sum(Z[:,-1]!=2)\n",
    "        print(f'l_{descr:8s}={l.mean():.3f} ({l_split[0]/S:.3f},{l_split[1]/S:.3f}) ({l_split[0]/n_I:.3f},{l_split[1]/n_nI:.3f}) ')\n",
    "    print()\n",
    "    \n",
    "    # close the record ...\n",
    "    results[it]['ok'] = True\n",
    "        \n",
    "    # ... and savit to disk    \n",
    "    with open(exp_name,'wb') as f:\n",
    "        pickle.dump(results, f)\n",
    "   \n"
   ]
  },
  {
   "cell_type": "code",
   "execution_count": 98,
   "metadata": {},
   "outputs": [
    {
     "data": {
      "text/plain": [
       "<matplotlib.legend.Legend at 0x7fa1c900c110>"
      ]
     },
     "execution_count": 98,
     "metadata": {},
     "output_type": "execute_result"
    },
    {
     "data": {
      "image/png": "[encoded data removed]",
      "text/plain": [
       "<Figure size 1440x720 with 1 Axes>"
      ]
     },
     "metadata": {
      "needs_background": "light"
     },
     "output_type": "display_data"
    }
   ],
   "source": [
    "it = 170\n",
    "figure(figsize=(20,10))\n",
    "plot(results[it]['p_pos'][:,2])\n",
    "plot(np.array(results[it]['tests_pos'])[:,0],0.1*np.ones_like(np.array(results[it]['tests_pos'])[:,0]),'k*')\n",
    "plot(np.where(results[it]['Z'][:,-1]==2)[0], 0.2*np.ones_like(np.where(results[it]['Z'][:,-1]==2)[0]), 'r*')\n",
    "\n",
    "grid(True)\n",
    "legend([\"P(z_{u,T}=='I'| all positive tests)\",\n",
    "       \"individuals with positve\",\n",
    "        \"infectuous at T individuals\"\n",
    "       ])"
   ]
  },
  {
   "cell_type": "code",
   "execution_count": null,
   "metadata": {},
   "outputs": [],
   "source": []
  }
 ],
 "metadata": {
  "kernelspec": {
   "display_name": "dl",
   "language": "python",
   "name": "dl"
  },
  "language_info": {
   "codemirror_mode": {
    "name": "ipython",
    "version": 3
   },
   "file_extension": ".py",
   "mimetype": "text/x-python",
   "name": "python",
   "nbconvert_exporter": "python",
   "pygments_lexer": "ipython3",
   "version": "3.7.4"
  }
 },
 "nbformat": 4,
 "nbformat_minor": 4
}
