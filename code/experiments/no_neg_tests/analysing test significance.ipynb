{
 "cells": [
  {
   "cell_type": "code",
   "execution_count": 1,
   "metadata": {},
   "outputs": [],
   "source": [
    "import numpy as np\n",
    "\n",
    "import sys\n",
    "sys.path.append('../..')\n",
    "sys.path.append('../exp_5.1')\n",
    "\n",
    "from tqdm.auto import trange\n",
    "\n",
    "from matplotlib.pyplot import *\n",
    "\n",
    "import pandas as pd\n",
    "\n",
    "import pickle\n",
    "\n",
    "from crisp import Distribution, GibbsPIS, LBPPIS\n",
    "from exp51 import init_contacts"
   ]
  },
  {
   "cell_type": "code",
   "execution_count": 2,
   "metadata": {},
   "outputs": [
    {
     "name": "stdout",
     "output_type": "stream",
     "text": [
      "qIbar=19.862\n"
     ]
    }
   ],
   "source": [
    "qEVec = [0.0000000000, 0.05908981283, 0.1656874653, 0.1819578343, 0.154807057,\n",
    "         0.1198776096, 0.08938884645, 0.06572939883, 0.04819654533,\n",
    "         0.03543733758, 0.02620080839, 0.01950646727, 0.01463254844,\n",
    "         0.0110616426, 0.008426626119]\n",
    "\n",
    "qIVec = [0.000000000000, 0.000000000000, 0.00000000000, 0.000000000000, 0.000000000000,\n",
    "         0.0001178655952, 0.0006658439543, 0.002319264193, 0.005825713197, 0.01160465163,\n",
    "         0.01949056696, 0.02877007836, 0.03842711373, 0.04743309657, 0.05496446107,\n",
    "         0.06050719418, 0.06386313651, 0.065094874, 0.06444537162, 0.06225794729,\n",
    "         0.0589104177, 0.05476817903, 0.05015542853, 0.0453410888, 0.04053528452,\n",
    "         0.03589255717, 0.03151878504, 0.02747963753, 0.02380914891, 0.02051758911,\n",
    "         0.01759822872, 0.01503287457, 0.0127962154, 0.01085910889, 0.009190974483,\n",
    "         0.007761463001, 0.006541562648, 0.005504277076]\n",
    "\n",
    "qE = Distribution([q/sum(qEVec) for q in qEVec])\n",
    "qI = Distribution([q/sum(qIVec) for q in qIVec])\n",
    "\n",
    "qIbar = np.sum(qIVec*np.arange(len(qIVec)))\n",
    "print(\"qIbar={:.3f}\".format(qIbar))"
   ]
  },
  {
   "cell_type": "code",
   "execution_count": 3,
   "metadata": {},
   "outputs": [],
   "source": [
    "T = 90\n",
    "S = 1000\n",
    "\n",
    "R0 = 1.05\n",
    "alpha = 0.01 # PCR test false negative rate\n",
    "beta = 0.001 # PCR test false positive rate\n",
    "\n",
    "p0 = 0.0005 # 50 per 100,000\n",
    "p1 = 0.01\n",
    "\n",
    "N_tests_per_day = 10\n",
    "N_runs = 1000\n",
    "\n",
    "\n",
    "exp_name = 'test_impact.pkl'"
   ]
  },
  {
   "cell_type": "code",
   "execution_count": 4,
   "metadata": {},
   "outputs": [
    {
     "data": {
      "text/plain": [
       "[<matplotlib.lines.Line2D at 0x7f8d82e448d0>]"
      ]
     },
     "execution_count": 4,
     "metadata": {},
     "output_type": "execute_result"
    },
    {
     "data": {
      "image/png": "[encoded data removed]",
      "text/plain": [
       "<Figure size 432x288 with 1 Axes>"
      ]
     },
     "metadata": {
      "needs_background": "light"
     },
     "output_type": "display_data"
    }
   ],
   "source": [
    "# create random contatcts fot 1000 people\n",
    "contacts = init_contacts(S,T, qIbar, R0=R0, p1=p1)\n",
    "contacts = np.concatenate(list(contacts.values()))\n",
    "\n",
    "# build the ground truth CRISP model with patient_zero = True \n",
    "pis = GibbsPIS(S, T, contacts, [], qE, qI, alpha, beta, p0, p1, True)\n",
    "\n",
    "# get a ground truth sample\n",
    "Z = pis.sample(1)[0] \n",
    "\n",
    "\n",
    "plot((Z==0).mean(0))\n",
    "plot((Z==1).mean(0))\n",
    "plot((Z==2).mean(0))\n",
    "plot((Z==3).mean(0))"
   ]
  },
  {
   "cell_type": "code",
   "execution_count": 5,
   "metadata": {},
   "outputs": [],
   "source": [
    "try:\n",
    "    with open(exp_name,'rb') as f:\n",
    "        results = pickle.load(f)\n",
    "except:\n",
    "    results = {}"
   ]
  },
  {
   "cell_type": "code",
   "execution_count": 6,
   "metadata": {},
   "outputs": [
    {
     "data": {
      "application/vnd.jupyter.widget-view+json": {
       "model_id": "4d0d7ddec0ef48169670121e9cd05fae",
       "version_major": 2,
       "version_minor": 0
      },
      "text/plain": [
       "HBox(children=(FloatProgress(value=0.0, max=1000.0), HTML(value='')))"
      ]
     },
     "metadata": {},
     "output_type": "display_data"
    },
    {
     "name": "stdout",
     "output_type": "stream",
     "text": [
      "3: n_pt=16(2.353%) l_all=-0.193 l_pos=-0.198 l_no_tests=-0.205 \n",
      "4: n_pt=31(4.559%) l_all=-0.172 "
     ]
    },
    {
     "ename": "KeyboardInterrupt",
     "evalue": "",
     "output_type": "error",
     "traceback": [
      "\u001b[0;31m---------------------------------------------------------------------------\u001b[0m",
      "\u001b[0;31mKeyboardInterrupt\u001b[0m                         Traceback (most recent call last)",
      "\u001b[0;32m<ipython-input-6-2ffa60eea9fd>\u001b[0m in \u001b[0;36m<module>\u001b[0;34m\u001b[0m\n\u001b[1;32m     61\u001b[0m \u001b[0;34m\u001b[0m\u001b[0m\n\u001b[1;32m     62\u001b[0m         \u001b[0;31m# five sweeps of LBP, back and forth\u001b[0m\u001b[0;34m\u001b[0m\u001b[0;34m\u001b[0m\u001b[0;34m\u001b[0m\u001b[0m\n\u001b[0;32m---> 63\u001b[0;31m         \u001b[0mpis_inference\u001b[0m\u001b[0;34m.\u001b[0m\u001b[0mpropagate\u001b[0m\u001b[0;34m(\u001b[0m\u001b[0;36m5\u001b[0m\u001b[0;34m,\u001b[0m\u001b[0;34m'full'\u001b[0m\u001b[0;34m)\u001b[0m\u001b[0;34m\u001b[0m\u001b[0;34m\u001b[0m\u001b[0m\n\u001b[0m\u001b[1;32m     64\u001b[0m \u001b[0;34m\u001b[0m\u001b[0m\n\u001b[1;32m     65\u001b[0m         \u001b[0;31m# compute the estimated marginal distribution, shape==(S,T,4)\u001b[0m\u001b[0;34m\u001b[0m\u001b[0;34m\u001b[0m\u001b[0;34m\u001b[0m\u001b[0m\n",
      "\u001b[0;31mKeyboardInterrupt\u001b[0m: "
     ]
    }
   ],
   "source": [
    "for it in trange(N_runs):\n",
    "\n",
    "    if it in results and results[it]['ok']:\n",
    "        continue\n",
    "    \n",
    "    results[it] = {'ok': False}\n",
    "        \n",
    "    # create random contatcts fot 1000 people\n",
    "    contacts = init_contacts(S,T, qIbar, R0=R0, p1=p1)\n",
    "    contacts = np.concatenate(list(contacts.values()))\n",
    "\n",
    "    # build the ground truth CRISP model with patient_zero = True \n",
    "    pis = GibbsPIS(S, T, contacts, [], qE, qI, alpha, beta, p0, p1, True)\n",
    "    \n",
    "    # get a ground truth sample\n",
    "    Z = pis.sample(1)[0] \n",
    "\n",
    "    results[it]['Z'] = Z\n",
    "\n",
    "    \n",
    "    # build up random tests starting at day 20\n",
    "    tests={}\n",
    "    for t in range(20,T-2):\n",
    "        i = np.random.choice(S, N_tests_per_day)\n",
    "\n",
    "        # sample N_tests_per_day random test outcomes\n",
    "        pos = np.random.binomial(size=N_tests_per_day, n=1, p=1.0-alpha)\n",
    "        neg = np.random.binomial(size=N_tests_per_day, n=1, p=beta)\n",
    "        \n",
    "        # and build a list of tuples out of it \n",
    "        # and save it in a dictionary as tests for the day t\n",
    "        tests[t] = list(zip(i,                                  # 1. the person id u\n",
    "                            [t]*N_tests_per_day,                # 2. the date t\n",
    "                            (Z[i,t]==2)*pos + (Z[i,t]!=2)*neg)) # 3. the test outcome\n",
    "\n",
    "    # concatenate the dictionary into one list    \n",
    "    # all test outcomes, positive and negative\n",
    "    tests_all = np.concatenate(list(tests.values()))\n",
    "\n",
    "    # filter    \n",
    "    # only the tests with positive outcome\n",
    "    tests_pos = [t for t in tests_all if t[2]==1]\n",
    "\n",
    "    # the number of positive test outcomes\n",
    "    n_pt = len(tests_pos)\n",
    "    results[it]['n_pos_tests'] = n_pt \n",
    "\n",
    "    # the fraction of positive test outcomes\n",
    "    r_pt = len(tests_pos) / len(tests_all)\n",
    "    results[it]['r_pos_tests'] = r_pt \n",
    "    \n",
    "    print(f'{it}: n_pt={n_pt}({100*r_pt:.3f}%) ', end='')\n",
    "    \n",
    "    # do inference over all test outcomes, positive test outcomes, and no tests\n",
    "    for tests, descr in [(tests_all,'all'), \n",
    "                         (tests_pos,'pos'),\n",
    "                         ([], 'no_tests')]: \n",
    "        \n",
    "        # build a CRISP model with the true contacts, the tests, and patirnt_zero=False (becaus we don't know of her)\n",
    "        pis_inference = LBPPIS(S, T, contacts, tests, qE, qI, alpha, beta, p0, p1, False)\n",
    "        \n",
    "        # five sweeps of LBP, back and forth\n",
    "        pis_inference.propagate(5,'full')\n",
    "        \n",
    "        # compute the estimated marginal distribution, shape==(S,T,4)\n",
    "        p = pis_inference.get_marginals()\n",
    "        # ... and a slice for the I state at the last day \n",
    "        p_infectious = p[:,-1,2]\n",
    "        \n",
    "        # that's the likelihood of ground truth infection state Z\n",
    "        l = np.log(p_infectious*(Z[:,-1]==2)+(1-p_infectious)*(Z[:,-1]!=2))\n",
    "        \n",
    "        # save everything\n",
    "        results[it]['p_'+descr] = p\n",
    "        results[it]['l_'+descr] = l\n",
    "        \n",
    "        print(f'l_{descr}={l.mean():.3f} ',end='')\n",
    "    print()\n",
    "    \n",
    "    # close the record ...\n",
    "    results[it]['ok'] = True\n",
    "        \n",
    "    # ... and savit to disk    \n",
    "    with open(exp_name,'wb') as f:\n",
    "        pickle.dump(results, f)\n"
   ]
  },
  {
   "cell_type": "code",
   "execution_count": null,
   "metadata": {},
   "outputs": [],
   "source": []
  }
 ],
 "metadata": {
  "kernelspec": {
   "display_name": "Python 3",
   "language": "python",
   "name": "python3"
  },
  "language_info": {
   "codemirror_mode": {
    "name": "ipython",
    "version": 3
   },
   "file_extension": ".py",
   "mimetype": "text/x-python",
   "name": "python",
   "nbconvert_exporter": "python",
   "pygments_lexer": "ipython3",
   "version": "3.7.7"
  }
 },
 "nbformat": 4,
 "nbformat_minor": 4
}
